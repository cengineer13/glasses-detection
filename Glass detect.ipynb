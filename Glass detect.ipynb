{
 "cells": [
  {
   "cell_type": "code",
   "execution_count": 4,
   "id": "bcab7ad2",
   "metadata": {},
   "outputs": [],
   "source": [
    "import numpy as np\n",
    "import cv2\n",
    "from tensorflow.keras.models import load_model #Modelni yuklab olish uchun\n",
    "import cvlib as cv #Face detect qiladigon library githubda bor\n",
    "from tensorflow.keras.preprocessing.image import img_to_array #numpyni kerasni arrayiga otkazish uchun"
   ]
  },
  {
   "cell_type": "code",
   "execution_count": null,
   "id": "eb58a16e",
   "metadata": {},
   "outputs": [],
   "source": [
    "model = load_model(\"glass_Murodil.model\") #modelniyuklash\n",
    "turi = ['Glass', \"without_glass\"] #Klasiffikatsiya turlari. Yani dataset papka nomlari"
   ]
  },
  {
   "cell_type": "code",
   "execution_count": 3,
   "id": "1c68755f",
   "metadata": {},
   "outputs": [
    {
     "name": "stdout",
     "output_type": "stream",
     "text": [
      "Collecting cvlib\n",
      "  Downloading cvlib-0.2.7.tar.gz (13.1 MB)\n",
      "Requirement already satisfied: numpy in c:\\users\\cengineer\\anaconda3\\lib\\site-packages (from cvlib) (1.20.3)\n",
      "Collecting progressbar\n",
      "  Downloading progressbar-2.5.tar.gz (10 kB)\n",
      "Requirement already satisfied: requests in c:\\users\\cengineer\\anaconda3\\lib\\site-packages (from cvlib) (2.26.0)\n",
      "Requirement already satisfied: pillow in c:\\users\\cengineer\\anaconda3\\lib\\site-packages (from cvlib) (8.4.0)\n",
      "Requirement already satisfied: imageio in c:\\users\\cengineer\\anaconda3\\lib\\site-packages (from cvlib) (2.9.0)\n",
      "Requirement already satisfied: imutils in c:\\users\\cengineer\\anaconda3\\lib\\site-packages (from cvlib) (0.5.4)\n",
      "Requirement already satisfied: idna<4,>=2.5 in c:\\users\\cengineer\\anaconda3\\lib\\site-packages (from requests->cvlib) (3.2)\n",
      "Requirement already satisfied: certifi>=2017.4.17 in c:\\users\\cengineer\\anaconda3\\lib\\site-packages (from requests->cvlib) (2021.10.8)\n",
      "Requirement already satisfied: urllib3<1.27,>=1.21.1 in c:\\users\\cengineer\\anaconda3\\lib\\site-packages (from requests->cvlib) (1.26.7)\n",
      "Requirement already satisfied: charset-normalizer~=2.0.0 in c:\\users\\cengineer\\anaconda3\\lib\\site-packages (from requests->cvlib) (2.0.4)\n",
      "Building wheels for collected packages: cvlib, progressbar\n",
      "  Building wheel for cvlib (setup.py): started\n",
      "  Building wheel for cvlib (setup.py): finished with status 'done'\n",
      "  Created wheel for cvlib: filename=cvlib-0.2.7-py3-none-any.whl size=10046386 sha256=b0d6d3da36d7cf121a6b459fb51c614dbe9883457d81375bd121aa73d4f581f2\n",
      "  Stored in directory: c:\\users\\cengineer\\appdata\\local\\pip\\cache\\wheels\\96\\ad\\4c\\d80d4bf4143c154ab297e2384915c89aff43d77d1787b9a702\n",
      "  Building wheel for progressbar (setup.py): started\n",
      "  Building wheel for progressbar (setup.py): finished with status 'done'\n",
      "  Created wheel for progressbar: filename=progressbar-2.5-py3-none-any.whl size=12082 sha256=6cb46713104919c2ea983a9ad7e6bfe62312c3e1737993077eb0902b17022f25\n",
      "  Stored in directory: c:\\users\\cengineer\\appdata\\local\\pip\\cache\\wheels\\d7\\d9\\89\\a3f31c76ff6d51dc3b1575628f59afe59e4ceae3f2748cd7ad\n",
      "Successfully built cvlib progressbar\n",
      "Installing collected packages: progressbar, cvlib\n",
      "Successfully installed cvlib-0.2.7 progressbar-2.5\n",
      "Note: you may need to restart the kernel to use updated packages.\n"
     ]
    }
   ],
   "source": [
    "pip install cvlib"
   ]
  },
  {
   "cell_type": "markdown",
   "id": "b2813ae1",
   "metadata": {},
   "source": [
    "# OpenCv kodi\n"
   ]
  },
  {
   "cell_type": "code",
   "execution_count": 17,
   "id": "87b57d62",
   "metadata": {
    "scrolled": true
   },
   "outputs": [],
   "source": [
    "video = cv2.VideoCapture('test_video.mp4') \n",
    "\n",
    "while video.isOpened(): \n",
    "    \n",
    "    boolen, kadr = video.read()\n",
    "     \n",
    "    #Kadrdan yuzni topib uni face ozgaruvchiga uzatadi. Yani 2 olchamli rasm matrixi uzatiladi    \n",
    "    face,confidence = cv.detect_face(kadr)\n",
    "    #print(face)\n",
    "    \n",
    "    \n",
    "    #Kelayotgan face [a,b,c,d] matrix yani [starx,stary,endx,endy] ga index qoyib beradi\n",
    "    for index, yuz in enumerate(face): \n",
    "        \n",
    "        #Topilgan yuzni nuqtalarini alohida tenglab olamiz.\n",
    "        (startX, startY, endX, endY) = yuz[0],yuz[1],yuz[2],yuz[3]\n",
    "        \n",
    "        #Kadrdagi nuqtalarni numpy matrixga (array)ga o'tkazib olamiz.\n",
    "        yuz_np = np.copy(kadr[startX:endX, startY:endY]) #Xdan tugash x gacha Y dan tugash Y gacha\n",
    "        \n",
    "       \n",
    "        \n",
    "        #Face topilgan yuza kichkina bo'lsa amal bajarmaymiz. Ya'ni uzoqdagi yuzlarni topmasin.\n",
    "        if yuz_np.shape[0] < 10 or yuz_np.shape[1] < 10:\n",
    "            continue\n",
    "        \n",
    "        \n",
    "        yuz_np = cv2.resize(yuz_np, (96,96)) #Yuz numpy ni imageni razmerini o'zgartiramiz \n",
    "        \n",
    "        yuz_np = yuz_np.astype(\"float\")/255.0 #Ranglar 255 gacha bo'lgani uchun matrixni foizda chiqarib beradi   \n",
    "     \n",
    "        yuz_np = img_to_array(yuz_np) #Tepada kutubxonani chaqirib, Rasm matrixni kerasni arrayiga otkazib olamiz\n",
    "        \n",
    "        #Yuz np ni dimensionini qoshvolamiz. Chunki predict metodiga kerakligi uchun\n",
    "        yuz_np = np.expand_dims(yuz_np,axis=0) \n",
    "        \n",
    "        #Eng birinchi matrix ni bashoratga yuboradi\n",
    "        bashorat = model.predict(yuz_np)[0]\n",
    "        \n",
    "        #Bashoratdan kelayotgan 2 qiymatni qaysi biri katta bolsa oshani indexni topib beradi va indexga ozlashtiradi\n",
    "        index = np.argmax(bashorat)\n",
    "       \n",
    "        #qaysi biri kelsa turidagi qiymat index lardan olib labelga tenglaydi.\n",
    "        label = turi[index]\n",
    "        \n",
    "        #Agar label qiymati Glass papka nomiga teng bolsa \n",
    "        if label == \"Glass\":         \n",
    "            color = (0,255,0) #yashil\n",
    "        else: \n",
    "            color = (255,0,0) #Aks holda ko'k qaytarsin.\n",
    "            \n",
    "        #Labelni bashoratdan kelgan qiymatni foizga o'tkazib olinadi. Masalan: Glass:99.9 chiqadi\n",
    "        label = f\"{label}:{np.around(bashorat[index]*100,2)}\"\n",
    "        \n",
    "        #Yozuvni tog'irlash  \n",
    "        if startY-10 > 10: #StarY-10 nuqta 10 dan katta bo'lsa \n",
    "            Y = startY - 10 #Y nuqtani coordinatasini tushiramiz\n",
    "        else: \n",
    "            Y = startY + 10 #Y nuqtani coordinatasini ko'taramiz. \n",
    "        \n",
    "        #Topiglan Facega Tortburchak chizadi\n",
    "        cv2.rectangle(kadr,(startX, startY),(endX,endY),color, 2)\n",
    "        #Bashoratni yozuv qilib chiqaradi\n",
    "        cv2.putText(kadr, label, (startX,Y),cv2.FONT_HERSHEY_COMPLEX, 1, color, 2)\n",
    "        \n",
    "        \n",
    "    cv2.imshow(\"frame\", kadr)\n",
    "    \n",
    "    # Q bosilguncha kutib turadi. \n",
    "    if cv2.waitKey(1) & 0xFF == ord('q'):\n",
    "        break\n",
    "        \n",
    "video.release()        \n",
    "cv2.destroyAllWindows()"
   ]
  },
  {
   "cell_type": "code",
   "execution_count": null,
   "id": "31c1a371",
   "metadata": {},
   "outputs": [],
   "source": []
  },
  {
   "cell_type": "code",
   "execution_count": null,
   "id": "3f49a6b5",
   "metadata": {},
   "outputs": [],
   "source": []
  },
  {
   "cell_type": "code",
   "execution_count": null,
   "id": "51bf25d7",
   "metadata": {},
   "outputs": [],
   "source": []
  },
  {
   "cell_type": "code",
   "execution_count": null,
   "id": "84e64d3c",
   "metadata": {},
   "outputs": [],
   "source": []
  },
  {
   "cell_type": "code",
   "execution_count": null,
   "id": "7d341b02",
   "metadata": {},
   "outputs": [],
   "source": []
  }
 ],
 "metadata": {
  "kernelspec": {
   "display_name": "Python 3 (ipykernel)",
   "language": "python",
   "name": "python3"
  },
  "language_info": {
   "codemirror_mode": {
    "name": "ipython",
    "version": 3
   },
   "file_extension": ".py",
   "mimetype": "text/x-python",
   "name": "python",
   "nbconvert_exporter": "python",
   "pygments_lexer": "ipython3",
   "version": "3.9.7"
  }
 },
 "nbformat": 4,
 "nbformat_minor": 5
}
